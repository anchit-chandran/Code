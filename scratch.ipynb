{
 "cells": [
  {
   "cell_type": "code",
   "execution_count": 18,
   "metadata": {},
   "outputs": [
    {
     "name": "stdout",
     "output_type": "stream",
     "text": [
      "Currently arr1[p1]=1 arr2[p2]=2\n",
      "Appending arr1[p1]=1. Incrementing p1=0 \n",
      "Currently arr1[p1]=3 arr2[p2]=2\n",
      "Appending arr2[p2]=2. Incrementing p2=0 \n",
      "Currently arr1[p1]=3 arr2[p2]=4\n",
      "Appending arr1[p1]=3. Incrementing p1=1 \n",
      "Currently arr1[p1]=5 arr2[p2]=4\n",
      "Appending arr2[p2]=4. Incrementing p2=1 \n",
      "Currently arr1[p1]=5 arr2[p2]=6\n",
      "Appending arr1[p1]=5. Incrementing p1=2 \n",
      "Currently arr1[p1]=7 arr2[p2]=6\n",
      "Appending arr2[p2]=6. Incrementing p2=2 \n",
      "Currently arr1[p1]=7 arr2[p2]=8\n",
      "Appending arr1[p1]=7. Incrementing p1=3 \n"
     ]
    },
    {
     "data": {
      "text/plain": [
       "[1, 2, 3, 4, 5, 6, 7, 8]"
      ]
     },
     "execution_count": 18,
     "metadata": {},
     "output_type": "execute_result"
    }
   ],
   "source": [
    "def merge(arr1, arr2)->list:\n",
    "    \"\"\"Inputs are sorted arrays. Returns sorted merged array using 2pointers.\"\"\"\n",
    "    p1, p2 = 0, 0\n",
    "    res = []\n",
    "    \n",
    "    while True:\n",
    "        if p1 == len(arr1):\n",
    "            res += arr2[p2:]\n",
    "            break\n",
    "        elif p2 == len(arr2):\n",
    "            res += arr1[p1:]\n",
    "            break\n",
    "        # print(f'Currently {arr1[p1]=} {arr2[p2]=}')\n",
    "        \n",
    "        if arr1[p1] < arr2[p2]:\n",
    "            # print(f'Appending {arr1[p1]=}. Incrementing {p1=} ')\n",
    "            res.append(arr1[p1])\n",
    "            p1 += 1\n",
    "        else:\n",
    "            # print(f'Appending {arr2[p2]=}. Incrementing {p2=} ')\n",
    "            res.append(arr2[p2])\n",
    "            p2 +=1\n",
    "    \n",
    "    return res\n",
    "\n",
    "arr1 = [1,3, 5, 7]\n",
    "arr2 = [2,4,6,8]\n",
    "\n",
    "merge(arr1, arr2)"
   ]
  },
  {
   "cell_type": "code",
   "execution_count": null,
   "metadata": {},
   "outputs": [],
   "source": []
  },
  {
   "cell_type": "code",
   "execution_count": null,
   "metadata": {},
   "outputs": [],
   "source": []
  },
  {
   "cell_type": "code",
   "execution_count": null,
   "metadata": {},
   "outputs": [],
   "source": []
  },
  {
   "cell_type": "code",
   "execution_count": null,
   "metadata": {},
   "outputs": [],
   "source": []
  },
  {
   "cell_type": "code",
   "execution_count": null,
   "metadata": {},
   "outputs": [],
   "source": []
  },
  {
   "cell_type": "code",
   "execution_count": null,
   "metadata": {},
   "outputs": [],
   "source": []
  },
  {
   "cell_type": "code",
   "execution_count": null,
   "metadata": {},
   "outputs": [],
   "source": []
  },
  {
   "cell_type": "code",
   "execution_count": null,
   "metadata": {},
   "outputs": [],
   "source": []
  },
  {
   "cell_type": "code",
   "execution_count": null,
   "metadata": {},
   "outputs": [],
   "source": []
  },
  {
   "cell_type": "code",
   "execution_count": null,
   "metadata": {},
   "outputs": [],
   "source": []
  },
  {
   "cell_type": "code",
   "execution_count": null,
   "metadata": {},
   "outputs": [],
   "source": []
  },
  {
   "cell_type": "code",
   "execution_count": null,
   "metadata": {},
   "outputs": [],
   "source": []
  },
  {
   "cell_type": "code",
   "execution_count": null,
   "metadata": {},
   "outputs": [],
   "source": []
  },
  {
   "cell_type": "code",
   "execution_count": null,
   "metadata": {},
   "outputs": [],
   "source": [
    "[1,2,3]"
   ]
  },
  {
   "cell_type": "code",
   "execution_count": null,
   "metadata": {},
   "outputs": [],
   "source": []
  },
  {
   "cell_type": "code",
   "execution_count": null,
   "metadata": {},
   "outputs": [],
   "source": []
  },
  {
   "cell_type": "code",
   "execution_count": null,
   "metadata": {},
   "outputs": [],
   "source": []
  },
  {
   "cell_type": "code",
   "execution_count": null,
   "metadata": {},
   "outputs": [],
   "source": []
  }
 ],
 "metadata": {
  "kernelspec": {
   "display_name": "Python 3",
   "language": "python",
   "name": "python3"
  },
  "language_info": {
   "codemirror_mode": {
    "name": "ipython",
    "version": 3
   },
   "file_extension": ".py",
   "mimetype": "text/x-python",
   "name": "python",
   "nbconvert_exporter": "python",
   "pygments_lexer": "ipython3",
   "version": "3.11.5"
  },
  "orig_nbformat": 4
 },
 "nbformat": 4,
 "nbformat_minor": 2
}
