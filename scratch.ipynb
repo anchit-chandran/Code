{
 "cells": [
  {
   "cell_type": "code",
   "execution_count": 12,
   "metadata": {},
   "outputs": [
    {
     "data": {
      "text/plain": [
       "6"
      ]
     },
     "execution_count": 12,
     "metadata": {},
     "output_type": "execute_result"
    }
   ],
   "source": [
    "def evalRPN(tokens: list[str]):\n",
    "    stack = []\n",
    "\n",
    "    for operand in tokens:\n",
    "        if operand in [\"+\", \"-\", \"*\", \"/\"]:\n",
    "            bottom_num = stack.pop()\n",
    "            top_num = stack.pop()\n",
    "            new_total = eval(f\"{top_num} {operand} {bottom_num}\")\n",
    "            stack.append(new_total)\n",
    "        else:\n",
    "            stack.append(operand)\n",
    "\n",
    "    return int(stack[0])\n",
    "\n",
    "\n",
    "tokens = [\"4\", \"13\", \"5\", \"/\", \"+\"]\n",
    "\n",
    "evalRPN(tokens)"
   ]
  },
  {
   "cell_type": "code",
   "execution_count": null,
   "metadata": {},
   "outputs": [],
   "source": []
  },
  {
   "cell_type": "code",
   "execution_count": null,
   "metadata": {},
   "outputs": [],
   "source": []
  }
 ],
 "metadata": {
  "kernelspec": {
   "display_name": "Python 3",
   "language": "python",
   "name": "python3"
  },
  "language_info": {
   "codemirror_mode": {
    "name": "ipython",
    "version": 3
   },
   "file_extension": ".py",
   "mimetype": "text/x-python",
   "name": "python",
   "nbconvert_exporter": "python",
   "pygments_lexer": "ipython3",
   "version": "3.11.5"
  },
  "orig_nbformat": 4
 },
 "nbformat": 4,
 "nbformat_minor": 2
}
