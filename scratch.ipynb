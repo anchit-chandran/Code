{
 "cells": [
  {
   "cell_type": "code",
   "execution_count": 17,
   "metadata": {},
   "outputs": [
    {
     "name": "stdout",
     "output_type": "stream",
     "text": [
      "tis but our fantasy, and will not let belief take hold of him \n",
      "\ttouching this dreaded sight, twice seen of us.\n",
      "\t\tTherefore, I have entreated him along,\n",
      "\twith us to watch the minutes of this night, that, if again\n",
      "this apparition come,\n",
      "\n",
      "He may approve our eyes and speak to it\n"
     ]
    }
   ],
   "source": [
    "input_string = \"\"\"tis but our fantasy, and will not let belief take hold of him \\n\\ttouching this dreaded sight, twice seen of us.\\n\\t\\tTherefore, I have entreated him along,\\n\\twith us to watch the minutes of this night, that, if again\\nthis apparition come,\\n\\nHe may approve our eyes and speak to it\"\"\"\n",
    "\n",
    "print(input_string)"
   ]
  },
  {
   "cell_type": "code",
   "execution_count": 23,
   "metadata": {},
   "outputs": [
    {
     "name": "stdout",
     "output_type": "stream",
     "text": [
      "30\n",
      "10\n",
      "2\n"
     ]
    }
   ],
   "source": [
    "num1 = int(input('Enter the first number: '))\n",
    "num2 = int(input('Enter the second number: '))\n",
    "num3 = int(input('Enter the third number: '))\n",
    "\n",
    "# find largest number\n",
    "if (num1 >= num2) and (num1 >= num3):\n",
    "    print(num1)\n",
    "    if num2 >= num3:\n",
    "        print(num2)\n",
    "        print(num3)\n",
    "    else:\n",
    "        print(num2)\n",
    "        print(num3)\n",
    "    \n",
    "elif (num2 >= num1) and (num2 >= num3):\n",
    "    print(num2)\n",
    "    if num1 >= num3:\n",
    "        print(num1)\n",
    "        print(num3)\n",
    "    else:\n",
    "        print(num3)\n",
    "        print(num2)\n",
    "else:\n",
    "    print(num3)\n",
    "    if num1 >= num2:\n",
    "        print(num1)\n",
    "        print(num2)\n",
    "    else:\n",
    "        print(num2)\n",
    "        print(num1)"
   ]
  },
  {
   "cell_type": "code",
   "execution_count": 34,
   "metadata": {},
   "outputs": [
    {
     "name": "stdout",
     "output_type": "stream",
     "text": [
      "Password accepted!\n"
     ]
    }
   ],
   "source": [
    "def verify_password(user_input:str)->str:\n",
    "    \"\"\"Verify user password is same as defined.\n",
    "\n",
    "    Args:\n",
    "        user_input (str): the user input \n",
    "\n",
    "    Returns:\n",
    "        str: message stating success\n",
    "    \"\"\"\n",
    "    \n",
    "    password = '123'\n",
    "\n",
    "    if user_input == password:\n",
    "        print('Password accepted!')\n",
    "    else:\n",
    "        print('Wrong password')\n",
    "\n",
    "user_input = input('Please enter the password: ')\n",
    "\n",
    "verify_password(user_input)"
   ]
  },
  {
   "cell_type": "code",
   "execution_count": 30,
   "metadata": {},
   "outputs": [
    {
     "name": "stdout",
     "output_type": "stream",
     "text": [
      "Distinction\n"
     ]
    }
   ],
   "source": [
    "def calculate_ucl_grade(average_grade: int)->str:\n",
    "    \"\"\"Returns grade as string depending on mark.\n",
    "\n",
    "    Args:\n",
    "        average_grade (int): the average module mark. Assumed to be between 0-100 inclusive.\n",
    "\n",
    "    Returns:\n",
    "        str: the grade, from one of ['Distinction', 'Pass', 'Fail']\n",
    "    \"\"\"\n",
    "    if average_grade >= 70:\n",
    "        print('Distinction')\n",
    "    elif 50 <= average_grade <= 69:\n",
    "        print('Pass')\n",
    "    else:\n",
    "        print('Fail')\n",
    "\n",
    "average_mark = int(input('Please enter your average mark for the module: '))\n",
    "\n",
    "calculate_ucl_grade(average_mark)"
   ]
  },
  {
   "cell_type": "code",
   "execution_count": null,
   "metadata": {},
   "outputs": [],
   "source": []
  },
  {
   "cell_type": "code",
   "execution_count": null,
   "metadata": {},
   "outputs": [],
   "source": []
  },
  {
   "cell_type": "code",
   "execution_count": null,
   "metadata": {},
   "outputs": [],
   "source": []
  },
  {
   "cell_type": "code",
   "execution_count": null,
   "metadata": {},
   "outputs": [],
   "source": []
  },
  {
   "cell_type": "code",
   "execution_count": null,
   "metadata": {},
   "outputs": [],
   "source": []
  }
 ],
 "metadata": {
  "kernelspec": {
   "display_name": "Python 3",
   "language": "python",
   "name": "python3"
  },
  "language_info": {
   "codemirror_mode": {
    "name": "ipython",
    "version": 3
   },
   "file_extension": ".py",
   "mimetype": "text/x-python",
   "name": "python",
   "nbconvert_exporter": "python",
   "pygments_lexer": "ipython3",
   "version": "3.11.5"
  },
  "orig_nbformat": 4
 },
 "nbformat": 4,
 "nbformat_minor": 2
}
