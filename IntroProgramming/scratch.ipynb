{
 "cells": [
  {
   "cell_type": "code",
   "execution_count": 39,
   "metadata": {},
   "outputs": [
    {
     "name": "stdout",
     "output_type": "stream",
     "text": [
      "count={'A': 1}. l=0r=0\n",
      "count={'A': 1, 'B': 1}. l=0r=1\n",
      "count={'A': 2, 'B': 1}. l=0r=2\n",
      "count={'A': 2, 'B': 2}. l=0r=3\n"
     ]
    },
    {
     "data": {
      "text/plain": [
       "4"
      ]
     },
     "execution_count": 39,
     "metadata": {},
     "output_type": "execute_result"
    }
   ],
   "source": [
    "def characterReplacement(s: str, k: int) -> int:\n",
    "    \n",
    "    count = {}\n",
    "    res = 0\n",
    "    l = 0\n",
    "    \n",
    "    for r in range(len(s)):\n",
    "        # update char count\n",
    "        count[s[r]] = 1 + count.get(s[r], 0)\n",
    "\n",
    "        # different letter without replaces available. window size - max char freq > available letter swaps\n",
    "        while (r - l + 1) - max(count.values()) > k:\n",
    "            \n",
    "            count[s[l]] -= 1 # decrement char count\n",
    "            l += 1 # move window to left  1\n",
    "        \n",
    "        res = max(res, r - l + 1)\n",
    "    \n",
    "    return res\n",
    "            \n",
    "        \n",
    "s = \"ABAB\"\n",
    "k = 2\n",
    "characterReplacement(s,k)"
   ]
  },
  {
   "cell_type": "code",
   "execution_count": 16,
   "metadata": {},
   "outputs": [
    {
     "ename": "IndexError",
     "evalue": "string index out of range",
     "output_type": "error",
     "traceback": [
      "\u001b[1;31m---------------------------------------------------------------------------\u001b[0m",
      "\u001b[1;31mIndexError\u001b[0m                                Traceback (most recent call last)",
      "\u001b[1;32mc:\\Users\\Anchit\\OneDrive - University College London\\CompSci MSc\\Code\\IntroProgramming\\scratch.ipynb Cell 2\u001b[0m line \u001b[0;36m2\n\u001b[0;32m      <a href='vscode-notebook-cell:/c%3A/Users/Anchit/OneDrive%20-%20University%20College%20London/CompSci%20MSc/Code/IntroProgramming/scratch.ipynb#X10sZmlsZQ%3D%3D?line=0'>1</a>\u001b[0m \u001b[39mlen\u001b[39m(\u001b[39m'\u001b[39m\u001b[39mAAAA\u001b[39m\u001b[39m'\u001b[39m)\n\u001b[1;32m----> <a href='vscode-notebook-cell:/c%3A/Users/Anchit/OneDrive%20-%20University%20College%20London/CompSci%20MSc/Code/IntroProgramming/scratch.ipynb#X10sZmlsZQ%3D%3D?line=1'>2</a>\u001b[0m \u001b[39m'\u001b[39;49m\u001b[39maaaa\u001b[39;49m\u001b[39m'\u001b[39;49m[\u001b[39m4\u001b[39;49m]\n",
      "\u001b[1;31mIndexError\u001b[0m: string index out of range"
     ]
    }
   ],
   "source": [
    "len('AAAA')\n",
    "'aaaa'[4]"
   ]
  }
 ],
 "metadata": {
  "kernelspec": {
   "display_name": "Python 3",
   "language": "python",
   "name": "python3"
  },
  "language_info": {
   "codemirror_mode": {
    "name": "ipython",
    "version": 3
   },
   "file_extension": ".py",
   "mimetype": "text/x-python",
   "name": "python",
   "nbconvert_exporter": "python",
   "pygments_lexer": "ipython3",
   "version": "3.10.4"
  },
  "orig_nbformat": 4
 },
 "nbformat": 4,
 "nbformat_minor": 2
}
