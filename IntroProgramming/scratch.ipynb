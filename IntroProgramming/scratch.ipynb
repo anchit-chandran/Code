{
 "cells": [
  {
   "cell_type": "code",
   "execution_count": 11,
   "metadata": {},
   "outputs": [
    {
     "name": "stdout",
     "output_type": "stream",
     "text": [
      "a\n",
      "b\n",
      "c\n",
      "a\n",
      "b\n",
      "c\n",
      "b\n",
      "b\n"
     ]
    }
   ],
   "source": [
    "def lengthOfLongestSubstring( s: str) -> int:\n",
    "    \n",
    "    l,r = 0,1\n",
    "    \n",
    "    longest_substring = 1\n",
    "    \n",
    "    while l < len(s):\n",
    "        seen = set()\n",
    "        seen.add(s[l])\n",
    "        for letter in s[l+1:]:\n",
    "            \n",
    "            if letter in seen:\n",
    "                longest_substring = max(longest_substring, len(seen))\n",
    "                l += 1\n",
    "                break\n",
    "            \n",
    "            seen.add(letter)\n",
    "            \n",
    "    return longest_substring\n",
    "\n",
    "lengthOfLongestSubstring('abcabcbb')"
   ]
  },
  {
   "cell_type": "code",
   "execution_count": null,
   "metadata": {},
   "outputs": [],
   "source": []
  },
  {
   "cell_type": "code",
   "execution_count": null,
   "metadata": {},
   "outputs": [],
   "source": []
  },
  {
   "cell_type": "code",
   "execution_count": null,
   "metadata": {},
   "outputs": [],
   "source": []
  },
  {
   "cell_type": "code",
   "execution_count": null,
   "metadata": {},
   "outputs": [],
   "source": []
  },
  {
   "cell_type": "code",
   "execution_count": null,
   "metadata": {},
   "outputs": [],
   "source": []
  },
  {
   "cell_type": "code",
   "execution_count": null,
   "metadata": {},
   "outputs": [],
   "source": []
  }
 ],
 "metadata": {
  "kernelspec": {
   "display_name": "Python 3",
   "language": "python",
   "name": "python3"
  },
  "language_info": {
   "codemirror_mode": {
    "name": "ipython",
    "version": 3
   },
   "file_extension": ".py",
   "mimetype": "text/x-python",
   "name": "python",
   "nbconvert_exporter": "python",
   "pygments_lexer": "ipython3",
   "version": "3.11.5"
  },
  "orig_nbformat": 4
 },
 "nbformat": 4,
 "nbformat_minor": 2
}
